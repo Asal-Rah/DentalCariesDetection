{
  "nbformat": 4,
  "nbformat_minor": 0,
  "metadata": {
    "colab": {
      "provenance": [],
      "collapsed_sections": [
        "Ib1yjpwsdgjE",
        "IGd7ZUyLbXGx"
      ]
    },
    "kernelspec": {
      "name": "python3",
      "display_name": "Python 3"
    },
    "language_info": {
      "name": "python"
    }
  },
  "cells": [
    {
      "cell_type": "markdown",
      "source": [
        "#Libraries"
      ],
      "metadata": {
        "id": "Ib1yjpwsdgjE"
      }
    },
    {
      "cell_type": "code",
      "execution_count": null,
      "metadata": {
        "id": "4370aMZhaMNU"
      },
      "outputs": [],
      "source": [
        "import tensorflow as tf\n",
        "import pandas as pd\n",
        "import matplotlib\n",
        "import matplotlib.pyplot as plt\n",
        "import os\n",
        "import cv2\n",
        "import numpy as np\n",
        "import keras\n",
        "from sklearn.model_selection import train_test_split\n",
        "from sklearn.preprocessing import LabelEncoder\n",
        "from keras.models import Sequential\n",
        "from keras.layers import Dense, Dropout, Activation, Flatten, LeakyReLU, BatchNormalization\n",
        "from keras.layers import Conv2D, MaxPooling2D\n",
        "from PIL import Image\n",
        "import random\n",
        "from tensorflow.keras.regularizers import l2\n",
        "from tensorflow.keras.callbacks import Callback\n",
        "from sklearn.metrics import f1_score\n",
        "from sklearn.utils import shuffle\n",
        "from collections import Counter\n"
      ]
    },
    {
      "cell_type": "code",
      "source": [],
      "metadata": {
        "id": "L0K1fuZRcTOz"
      },
      "execution_count": null,
      "outputs": []
    },
    {
      "cell_type": "code",
      "execution_count": null,
      "metadata": {
        "id": "fUqiUu96aj9C"
      },
      "outputs": [],
      "source": [
        "data_directory = '/content/drive/MyDrive/Dental Project'"
      ]
    },
    {
      "cell_type": "code",
      "execution_count": null,
      "metadata": {
        "id": "og5gmfe_37dG",
        "colab": {
          "base_uri": "https://localhost:8080/"
        },
        "outputId": "dc3b111a-31f1-4428-d86f-e1c789107f5b"
      },
      "outputs": [
        {
          "output_type": "stream",
          "name": "stdout",
          "text": [
            "Mounted at /content/drive\n"
          ]
        }
      ],
      "source": [
        "from google.colab import drive\n",
        "drive.mount('/content/drive')"
      ]
    },
    {
      "cell_type": "markdown",
      "metadata": {
        "id": "IGd7ZUyLbXGx"
      },
      "source": [
        "#Data Pre-Processing and Augmentation"
      ]
    },
    {
      "cell_type": "code",
      "execution_count": null,
      "metadata": {
        "id": "iNVFMvajXUL5"
      },
      "outputs": [],
      "source": [
        "df1 = pd.read_csv(os.path.join(data_directory,'train/_annotations.csv'))\n",
        "df1['FileClass'] = 'train'\n",
        "df2 = pd.read_csv(os.path.join(data_directory,'test/_annotations.csv'))\n",
        "df2['FileClass'] = 'test'\n",
        "df3 = pd.read_csv(os.path.join(data_directory,'valid/_annotations.csv'))\n",
        "df3['FileClass'] = 'valid'"
      ]
    },
    {
      "cell_type": "code",
      "execution_count": null,
      "metadata": {
        "id": "lUoI3GhuCCI1"
      },
      "outputs": [],
      "source": [
        "df = pd.concat([df1, df2, df3], axis=0)"
      ]
    },
    {
      "cell_type": "code",
      "execution_count": null,
      "metadata": {
        "colab": {
          "base_uri": "https://localhost:8080/",
          "height": 363
        },
        "id": "Zb73-GATCFti",
        "outputId": "8f99f2ab-fae1-4576-84b3-510d2fbcbcda"
      },
      "outputs": [
        {
          "output_type": "execute_result",
          "data": {
            "text/plain": [
              "                                           filename  width  height     class  \\\n",
              "0  0674_jpg.rf.e02a155a0c135687b9301ff9a20d220a.jpg    512     256   Implant   \n",
              "1  0674_jpg.rf.e02a155a0c135687b9301ff9a20d220a.jpg    512     256  Fillings   \n",
              "2  0674_jpg.rf.e02a155a0c135687b9301ff9a20d220a.jpg    512     256   Implant   \n",
              "3  0674_jpg.rf.e02a155a0c135687b9301ff9a20d220a.jpg    512     256   Implant   \n",
              "4  0674_jpg.rf.e02a155a0c135687b9301ff9a20d220a.jpg    512     256   Implant   \n",
              "5  0674_jpg.rf.e02a155a0c135687b9301ff9a20d220a.jpg    512     256  Fillings   \n",
              "6  0674_jpg.rf.e02a155a0c135687b9301ff9a20d220a.jpg    512     256  Fillings   \n",
              "7  0674_jpg.rf.e02a155a0c135687b9301ff9a20d220a.jpg    512     256  Fillings   \n",
              "8  0674_jpg.rf.e02a155a0c135687b9301ff9a20d220a.jpg    512     256   Implant   \n",
              "9  0674_jpg.rf.e02a155a0c135687b9301ff9a20d220a.jpg    512     256  Fillings   \n",
              "\n",
              "   xmin  ymin  xmax  ymax FileClass  \n",
              "0   175   116   206   153     train  \n",
              "1   170   109   189   133     train  \n",
              "2   221   124   257   178     train  \n",
              "3   302   126   329   175     train  \n",
              "4   335   114   360   154     train  \n",
              "5   358    57   391   106     train  \n",
              "6   330    81   358   106     train  \n",
              "7   311    58   330   109     train  \n",
              "8   142    96   174   144     train  \n",
              "9   257   127   282   154     train  "
            ],
            "text/html": [
              "\n",
              "  <div id=\"df-eaaeef00-c4d2-4da1-9555-599165320624\" class=\"colab-df-container\">\n",
              "    <div>\n",
              "<style scoped>\n",
              "    .dataframe tbody tr th:only-of-type {\n",
              "        vertical-align: middle;\n",
              "    }\n",
              "\n",
              "    .dataframe tbody tr th {\n",
              "        vertical-align: top;\n",
              "    }\n",
              "\n",
              "    .dataframe thead th {\n",
              "        text-align: right;\n",
              "    }\n",
              "</style>\n",
              "<table border=\"1\" class=\"dataframe\">\n",
              "  <thead>\n",
              "    <tr style=\"text-align: right;\">\n",
              "      <th></th>\n",
              "      <th>filename</th>\n",
              "      <th>width</th>\n",
              "      <th>height</th>\n",
              "      <th>class</th>\n",
              "      <th>xmin</th>\n",
              "      <th>ymin</th>\n",
              "      <th>xmax</th>\n",
              "      <th>ymax</th>\n",
              "      <th>FileClass</th>\n",
              "    </tr>\n",
              "  </thead>\n",
              "  <tbody>\n",
              "    <tr>\n",
              "      <th>0</th>\n",
              "      <td>0674_jpg.rf.e02a155a0c135687b9301ff9a20d220a.jpg</td>\n",
              "      <td>512</td>\n",
              "      <td>256</td>\n",
              "      <td>Implant</td>\n",
              "      <td>175</td>\n",
              "      <td>116</td>\n",
              "      <td>206</td>\n",
              "      <td>153</td>\n",
              "      <td>train</td>\n",
              "    </tr>\n",
              "    <tr>\n",
              "      <th>1</th>\n",
              "      <td>0674_jpg.rf.e02a155a0c135687b9301ff9a20d220a.jpg</td>\n",
              "      <td>512</td>\n",
              "      <td>256</td>\n",
              "      <td>Fillings</td>\n",
              "      <td>170</td>\n",
              "      <td>109</td>\n",
              "      <td>189</td>\n",
              "      <td>133</td>\n",
              "      <td>train</td>\n",
              "    </tr>\n",
              "    <tr>\n",
              "      <th>2</th>\n",
              "      <td>0674_jpg.rf.e02a155a0c135687b9301ff9a20d220a.jpg</td>\n",
              "      <td>512</td>\n",
              "      <td>256</td>\n",
              "      <td>Implant</td>\n",
              "      <td>221</td>\n",
              "      <td>124</td>\n",
              "      <td>257</td>\n",
              "      <td>178</td>\n",
              "      <td>train</td>\n",
              "    </tr>\n",
              "    <tr>\n",
              "      <th>3</th>\n",
              "      <td>0674_jpg.rf.e02a155a0c135687b9301ff9a20d220a.jpg</td>\n",
              "      <td>512</td>\n",
              "      <td>256</td>\n",
              "      <td>Implant</td>\n",
              "      <td>302</td>\n",
              "      <td>126</td>\n",
              "      <td>329</td>\n",
              "      <td>175</td>\n",
              "      <td>train</td>\n",
              "    </tr>\n",
              "    <tr>\n",
              "      <th>4</th>\n",
              "      <td>0674_jpg.rf.e02a155a0c135687b9301ff9a20d220a.jpg</td>\n",
              "      <td>512</td>\n",
              "      <td>256</td>\n",
              "      <td>Implant</td>\n",
              "      <td>335</td>\n",
              "      <td>114</td>\n",
              "      <td>360</td>\n",
              "      <td>154</td>\n",
              "      <td>train</td>\n",
              "    </tr>\n",
              "    <tr>\n",
              "      <th>5</th>\n",
              "      <td>0674_jpg.rf.e02a155a0c135687b9301ff9a20d220a.jpg</td>\n",
              "      <td>512</td>\n",
              "      <td>256</td>\n",
              "      <td>Fillings</td>\n",
              "      <td>358</td>\n",
              "      <td>57</td>\n",
              "      <td>391</td>\n",
              "      <td>106</td>\n",
              "      <td>train</td>\n",
              "    </tr>\n",
              "    <tr>\n",
              "      <th>6</th>\n",
              "      <td>0674_jpg.rf.e02a155a0c135687b9301ff9a20d220a.jpg</td>\n",
              "      <td>512</td>\n",
              "      <td>256</td>\n",
              "      <td>Fillings</td>\n",
              "      <td>330</td>\n",
              "      <td>81</td>\n",
              "      <td>358</td>\n",
              "      <td>106</td>\n",
              "      <td>train</td>\n",
              "    </tr>\n",
              "    <tr>\n",
              "      <th>7</th>\n",
              "      <td>0674_jpg.rf.e02a155a0c135687b9301ff9a20d220a.jpg</td>\n",
              "      <td>512</td>\n",
              "      <td>256</td>\n",
              "      <td>Fillings</td>\n",
              "      <td>311</td>\n",
              "      <td>58</td>\n",
              "      <td>330</td>\n",
              "      <td>109</td>\n",
              "      <td>train</td>\n",
              "    </tr>\n",
              "    <tr>\n",
              "      <th>8</th>\n",
              "      <td>0674_jpg.rf.e02a155a0c135687b9301ff9a20d220a.jpg</td>\n",
              "      <td>512</td>\n",
              "      <td>256</td>\n",
              "      <td>Implant</td>\n",
              "      <td>142</td>\n",
              "      <td>96</td>\n",
              "      <td>174</td>\n",
              "      <td>144</td>\n",
              "      <td>train</td>\n",
              "    </tr>\n",
              "    <tr>\n",
              "      <th>9</th>\n",
              "      <td>0674_jpg.rf.e02a155a0c135687b9301ff9a20d220a.jpg</td>\n",
              "      <td>512</td>\n",
              "      <td>256</td>\n",
              "      <td>Fillings</td>\n",
              "      <td>257</td>\n",
              "      <td>127</td>\n",
              "      <td>282</td>\n",
              "      <td>154</td>\n",
              "      <td>train</td>\n",
              "    </tr>\n",
              "  </tbody>\n",
              "</table>\n",
              "</div>\n",
              "    <div class=\"colab-df-buttons\">\n",
              "\n",
              "  <div class=\"colab-df-container\">\n",
              "    <button class=\"colab-df-convert\" onclick=\"convertToInteractive('df-eaaeef00-c4d2-4da1-9555-599165320624')\"\n",
              "            title=\"Convert this dataframe to an interactive table.\"\n",
              "            style=\"display:none;\">\n",
              "\n",
              "  <svg xmlns=\"http://www.w3.org/2000/svg\" height=\"24px\" viewBox=\"0 -960 960 960\">\n",
              "    <path d=\"M120-120v-720h720v720H120Zm60-500h600v-160H180v160Zm220 220h160v-160H400v160Zm0 220h160v-160H400v160ZM180-400h160v-160H180v160Zm440 0h160v-160H620v160ZM180-180h160v-160H180v160Zm440 0h160v-160H620v160Z\"/>\n",
              "  </svg>\n",
              "    </button>\n",
              "\n",
              "  <style>\n",
              "    .colab-df-container {\n",
              "      display:flex;\n",
              "      gap: 12px;\n",
              "    }\n",
              "\n",
              "    .colab-df-convert {\n",
              "      background-color: #E8F0FE;\n",
              "      border: none;\n",
              "      border-radius: 50%;\n",
              "      cursor: pointer;\n",
              "      display: none;\n",
              "      fill: #1967D2;\n",
              "      height: 32px;\n",
              "      padding: 0 0 0 0;\n",
              "      width: 32px;\n",
              "    }\n",
              "\n",
              "    .colab-df-convert:hover {\n",
              "      background-color: #E2EBFA;\n",
              "      box-shadow: 0px 1px 2px rgba(60, 64, 67, 0.3), 0px 1px 3px 1px rgba(60, 64, 67, 0.15);\n",
              "      fill: #174EA6;\n",
              "    }\n",
              "\n",
              "    .colab-df-buttons div {\n",
              "      margin-bottom: 4px;\n",
              "    }\n",
              "\n",
              "    [theme=dark] .colab-df-convert {\n",
              "      background-color: #3B4455;\n",
              "      fill: #D2E3FC;\n",
              "    }\n",
              "\n",
              "    [theme=dark] .colab-df-convert:hover {\n",
              "      background-color: #434B5C;\n",
              "      box-shadow: 0px 1px 3px 1px rgba(0, 0, 0, 0.15);\n",
              "      filter: drop-shadow(0px 1px 2px rgba(0, 0, 0, 0.3));\n",
              "      fill: #FFFFFF;\n",
              "    }\n",
              "  </style>\n",
              "\n",
              "    <script>\n",
              "      const buttonEl =\n",
              "        document.querySelector('#df-eaaeef00-c4d2-4da1-9555-599165320624 button.colab-df-convert');\n",
              "      buttonEl.style.display =\n",
              "        google.colab.kernel.accessAllowed ? 'block' : 'none';\n",
              "\n",
              "      async function convertToInteractive(key) {\n",
              "        const element = document.querySelector('#df-eaaeef00-c4d2-4da1-9555-599165320624');\n",
              "        const dataTable =\n",
              "          await google.colab.kernel.invokeFunction('convertToInteractive',\n",
              "                                                    [key], {});\n",
              "        if (!dataTable) return;\n",
              "\n",
              "        const docLinkHtml = 'Like what you see? Visit the ' +\n",
              "          '<a target=\"_blank\" href=https://colab.research.google.com/notebooks/data_table.ipynb>data table notebook</a>'\n",
              "          + ' to learn more about interactive tables.';\n",
              "        element.innerHTML = '';\n",
              "        dataTable['output_type'] = 'display_data';\n",
              "        await google.colab.output.renderOutput(dataTable, element);\n",
              "        const docLink = document.createElement('div');\n",
              "        docLink.innerHTML = docLinkHtml;\n",
              "        element.appendChild(docLink);\n",
              "      }\n",
              "    </script>\n",
              "  </div>\n",
              "\n",
              "\n",
              "<div id=\"df-1440eb68-9e2d-4c9e-9c21-8e11fcdecaf0\">\n",
              "  <button class=\"colab-df-quickchart\" onclick=\"quickchart('df-1440eb68-9e2d-4c9e-9c21-8e11fcdecaf0')\"\n",
              "            title=\"Suggest charts\"\n",
              "            style=\"display:none;\">\n",
              "\n",
              "<svg xmlns=\"http://www.w3.org/2000/svg\" height=\"24px\"viewBox=\"0 0 24 24\"\n",
              "     width=\"24px\">\n",
              "    <g>\n",
              "        <path d=\"M19 3H5c-1.1 0-2 .9-2 2v14c0 1.1.9 2 2 2h14c1.1 0 2-.9 2-2V5c0-1.1-.9-2-2-2zM9 17H7v-7h2v7zm4 0h-2V7h2v10zm4 0h-2v-4h2v4z\"/>\n",
              "    </g>\n",
              "</svg>\n",
              "  </button>\n",
              "\n",
              "<style>\n",
              "  .colab-df-quickchart {\n",
              "      --bg-color: #E8F0FE;\n",
              "      --fill-color: #1967D2;\n",
              "      --hover-bg-color: #E2EBFA;\n",
              "      --hover-fill-color: #174EA6;\n",
              "      --disabled-fill-color: #AAA;\n",
              "      --disabled-bg-color: #DDD;\n",
              "  }\n",
              "\n",
              "  [theme=dark] .colab-df-quickchart {\n",
              "      --bg-color: #3B4455;\n",
              "      --fill-color: #D2E3FC;\n",
              "      --hover-bg-color: #434B5C;\n",
              "      --hover-fill-color: #FFFFFF;\n",
              "      --disabled-bg-color: #3B4455;\n",
              "      --disabled-fill-color: #666;\n",
              "  }\n",
              "\n",
              "  .colab-df-quickchart {\n",
              "    background-color: var(--bg-color);\n",
              "    border: none;\n",
              "    border-radius: 50%;\n",
              "    cursor: pointer;\n",
              "    display: none;\n",
              "    fill: var(--fill-color);\n",
              "    height: 32px;\n",
              "    padding: 0;\n",
              "    width: 32px;\n",
              "  }\n",
              "\n",
              "  .colab-df-quickchart:hover {\n",
              "    background-color: var(--hover-bg-color);\n",
              "    box-shadow: 0 1px 2px rgba(60, 64, 67, 0.3), 0 1px 3px 1px rgba(60, 64, 67, 0.15);\n",
              "    fill: var(--button-hover-fill-color);\n",
              "  }\n",
              "\n",
              "  .colab-df-quickchart-complete:disabled,\n",
              "  .colab-df-quickchart-complete:disabled:hover {\n",
              "    background-color: var(--disabled-bg-color);\n",
              "    fill: var(--disabled-fill-color);\n",
              "    box-shadow: none;\n",
              "  }\n",
              "\n",
              "  .colab-df-spinner {\n",
              "    border: 2px solid var(--fill-color);\n",
              "    border-color: transparent;\n",
              "    border-bottom-color: var(--fill-color);\n",
              "    animation:\n",
              "      spin 1s steps(1) infinite;\n",
              "  }\n",
              "\n",
              "  @keyframes spin {\n",
              "    0% {\n",
              "      border-color: transparent;\n",
              "      border-bottom-color: var(--fill-color);\n",
              "      border-left-color: var(--fill-color);\n",
              "    }\n",
              "    20% {\n",
              "      border-color: transparent;\n",
              "      border-left-color: var(--fill-color);\n",
              "      border-top-color: var(--fill-color);\n",
              "    }\n",
              "    30% {\n",
              "      border-color: transparent;\n",
              "      border-left-color: var(--fill-color);\n",
              "      border-top-color: var(--fill-color);\n",
              "      border-right-color: var(--fill-color);\n",
              "    }\n",
              "    40% {\n",
              "      border-color: transparent;\n",
              "      border-right-color: var(--fill-color);\n",
              "      border-top-color: var(--fill-color);\n",
              "    }\n",
              "    60% {\n",
              "      border-color: transparent;\n",
              "      border-right-color: var(--fill-color);\n",
              "    }\n",
              "    80% {\n",
              "      border-color: transparent;\n",
              "      border-right-color: var(--fill-color);\n",
              "      border-bottom-color: var(--fill-color);\n",
              "    }\n",
              "    90% {\n",
              "      border-color: transparent;\n",
              "      border-bottom-color: var(--fill-color);\n",
              "    }\n",
              "  }\n",
              "</style>\n",
              "\n",
              "  <script>\n",
              "    async function quickchart(key) {\n",
              "      const quickchartButtonEl =\n",
              "        document.querySelector('#' + key + ' button');\n",
              "      quickchartButtonEl.disabled = true;  // To prevent multiple clicks.\n",
              "      quickchartButtonEl.classList.add('colab-df-spinner');\n",
              "      try {\n",
              "        const charts = await google.colab.kernel.invokeFunction(\n",
              "            'suggestCharts', [key], {});\n",
              "      } catch (error) {\n",
              "        console.error('Error during call to suggestCharts:', error);\n",
              "      }\n",
              "      quickchartButtonEl.classList.remove('colab-df-spinner');\n",
              "      quickchartButtonEl.classList.add('colab-df-quickchart-complete');\n",
              "    }\n",
              "    (() => {\n",
              "      let quickchartButtonEl =\n",
              "        document.querySelector('#df-1440eb68-9e2d-4c9e-9c21-8e11fcdecaf0 button');\n",
              "      quickchartButtonEl.style.display =\n",
              "        google.colab.kernel.accessAllowed ? 'block' : 'none';\n",
              "    })();\n",
              "  </script>\n",
              "</div>\n",
              "    </div>\n",
              "  </div>\n"
            ],
            "application/vnd.google.colaboratory.intrinsic+json": {
              "type": "dataframe",
              "variable_name": "df",
              "summary": "{\n  \"name\": \"df\",\n  \"rows\": 9283,\n  \"fields\": [\n    {\n      \"column\": \"filename\",\n      \"properties\": {\n        \"dtype\": \"category\",\n        \"num_unique_values\": 1269,\n        \"samples\": [\n          \"0680_jpg.rf.5596d1bc316cbf0d84897706ef97ed3e.jpg\",\n          \"0028_jpg.rf.60f74bed91a703ce0c29984194aab034.jpg\",\n          \"0458_jpg.rf.7f3cc5e1f3e8b8ffbfe204723422b937.jpg\"\n        ],\n        \"semantic_type\": \"\",\n        \"description\": \"\"\n      }\n    },\n    {\n      \"column\": \"width\",\n      \"properties\": {\n        \"dtype\": \"number\",\n        \"std\": 0,\n        \"min\": 512,\n        \"max\": 512,\n        \"num_unique_values\": 1,\n        \"samples\": [\n          512\n        ],\n        \"semantic_type\": \"\",\n        \"description\": \"\"\n      }\n    },\n    {\n      \"column\": \"height\",\n      \"properties\": {\n        \"dtype\": \"number\",\n        \"std\": 0,\n        \"min\": 256,\n        \"max\": 256,\n        \"num_unique_values\": 1,\n        \"samples\": [\n          256\n        ],\n        \"semantic_type\": \"\",\n        \"description\": \"\"\n      }\n    },\n    {\n      \"column\": \"class\",\n      \"properties\": {\n        \"dtype\": \"category\",\n        \"num_unique_values\": 4,\n        \"samples\": [\n          \"Fillings\"\n        ],\n        \"semantic_type\": \"\",\n        \"description\": \"\"\n      }\n    },\n    {\n      \"column\": \"xmin\",\n      \"properties\": {\n        \"dtype\": \"number\",\n        \"std\": 82,\n        \"min\": 56,\n        \"max\": 416,\n        \"num_unique_values\": 336,\n        \"samples\": [\n          300\n        ],\n        \"semantic_type\": \"\",\n        \"description\": \"\"\n      }\n    },\n    {\n      \"column\": \"ymin\",\n      \"properties\": {\n        \"dtype\": \"number\",\n        \"std\": 31,\n        \"min\": 24,\n        \"max\": 193,\n        \"num_unique_values\": 155,\n        \"samples\": [\n          84\n        ],\n        \"semantic_type\": \"\",\n        \"description\": \"\"\n      }\n    },\n    {\n      \"column\": \"xmax\",\n      \"properties\": {\n        \"dtype\": \"number\",\n        \"std\": 82,\n        \"min\": 96,\n        \"max\": 456,\n        \"num_unique_values\": 335,\n        \"samples\": [\n          331\n        ],\n        \"semantic_type\": \"\",\n        \"description\": \"\"\n      }\n    },\n    {\n      \"column\": \"ymax\",\n      \"properties\": {\n        \"dtype\": \"number\",\n        \"std\": 31,\n        \"min\": 63,\n        \"max\": 232,\n        \"num_unique_values\": 155,\n        \"samples\": [\n          122\n        ],\n        \"semantic_type\": \"\",\n        \"description\": \"\"\n      }\n    },\n    {\n      \"column\": \"FileClass\",\n      \"properties\": {\n        \"dtype\": \"category\",\n        \"num_unique_values\": 3,\n        \"samples\": [\n          \"train\"\n        ],\n        \"semantic_type\": \"\",\n        \"description\": \"\"\n      }\n    }\n  ]\n}"
            }
          },
          "metadata": {},
          "execution_count": 8
        }
      ],
      "source": [
        "df.head(10)"
      ]
    },
    {
      "cell_type": "code",
      "execution_count": null,
      "metadata": {
        "colab": {
          "base_uri": "https://localhost:8080/"
        },
        "id": "2s5rZsQBPYQf",
        "outputId": "929d8589-1744-4486-8926-48beff020f67"
      },
      "outputs": [
        {
          "output_type": "execute_result",
          "data": {
            "text/plain": [
              "(9283, 9)"
            ]
          },
          "metadata": {},
          "execution_count": 9
        }
      ],
      "source": [
        "df.shape"
      ]
    },
    {
      "cell_type": "code",
      "execution_count": null,
      "metadata": {
        "colab": {
          "base_uri": "https://localhost:8080/",
          "height": 241
        },
        "id": "iCMjDeZYZmuB",
        "outputId": "6d03650b-4019-464b-f30c-13b19e246b5a"
      },
      "outputs": [
        {
          "output_type": "execute_result",
          "data": {
            "text/plain": [
              "class\n",
              "Fillings          6097\n",
              "Implant           2047\n",
              "Cavity             641\n",
              "Impacted Tooth     498\n",
              "Name: count, dtype: int64"
            ],
            "text/html": [
              "<div>\n",
              "<style scoped>\n",
              "    .dataframe tbody tr th:only-of-type {\n",
              "        vertical-align: middle;\n",
              "    }\n",
              "\n",
              "    .dataframe tbody tr th {\n",
              "        vertical-align: top;\n",
              "    }\n",
              "\n",
              "    .dataframe thead th {\n",
              "        text-align: right;\n",
              "    }\n",
              "</style>\n",
              "<table border=\"1\" class=\"dataframe\">\n",
              "  <thead>\n",
              "    <tr style=\"text-align: right;\">\n",
              "      <th></th>\n",
              "      <th>count</th>\n",
              "    </tr>\n",
              "    <tr>\n",
              "      <th>class</th>\n",
              "      <th></th>\n",
              "    </tr>\n",
              "  </thead>\n",
              "  <tbody>\n",
              "    <tr>\n",
              "      <th>Fillings</th>\n",
              "      <td>6097</td>\n",
              "    </tr>\n",
              "    <tr>\n",
              "      <th>Implant</th>\n",
              "      <td>2047</td>\n",
              "    </tr>\n",
              "    <tr>\n",
              "      <th>Cavity</th>\n",
              "      <td>641</td>\n",
              "    </tr>\n",
              "    <tr>\n",
              "      <th>Impacted Tooth</th>\n",
              "      <td>498</td>\n",
              "    </tr>\n",
              "  </tbody>\n",
              "</table>\n",
              "</div><br><label><b>dtype:</b> int64</label>"
            ]
          },
          "metadata": {},
          "execution_count": 10
        }
      ],
      "source": [
        "df['class'].value_counts()"
      ]
    },
    {
      "cell_type": "code",
      "execution_count": null,
      "metadata": {
        "colab": {
          "base_uri": "https://localhost:8080/"
        },
        "id": "6X0PVPyJPgDL",
        "outputId": "94437d42-52b4-4277-c726-b84706fda3bd"
      },
      "outputs": [
        {
          "output_type": "execute_result",
          "data": {
            "text/plain": [
              "1269"
            ]
          },
          "metadata": {},
          "execution_count": 11
        }
      ],
      "source": [
        "df['filename'].nunique()"
      ]
    },
    {
      "cell_type": "code",
      "execution_count": null,
      "metadata": {
        "colab": {
          "base_uri": "https://localhost:8080/"
        },
        "id": "Jjwv3rgFQvH7",
        "outputId": "daff37ac-4171-48df-d42b-661d3cd44bcc"
      },
      "outputs": [
        {
          "output_type": "execute_result",
          "data": {
            "text/plain": [
              "0"
            ]
          },
          "metadata": {},
          "execution_count": 12
        }
      ],
      "source": [
        "null_count = df['class'].isnull().sum()\n",
        "null_count"
      ]
    },
    {
      "cell_type": "code",
      "execution_count": null,
      "metadata": {
        "colab": {
          "base_uri": "https://localhost:8080/"
        },
        "id": "OdkUAHC9TN9H",
        "outputId": "81e3de15-379e-4a91-983f-66a45ddb1f4a"
      },
      "outputs": [
        {
          "output_type": "execute_result",
          "data": {
            "text/plain": [
              "array(['Implant', 'Fillings', 'Impacted Tooth', 'Cavity'], dtype=object)"
            ]
          },
          "metadata": {},
          "execution_count": 13
        }
      ],
      "source": [
        "df['class'].unique() #check if the classes are imbalanced or not"
      ]
    },
    {
      "cell_type": "code",
      "execution_count": null,
      "metadata": {
        "id": "jtKfzPvvabXa"
      },
      "outputs": [],
      "source": [
        "def load_data(data_directory):\n",
        "    images = []\n",
        "    labels = []\n",
        "    classes = []\n",
        "# iterating over classes in a directory, then iterating over the images within each class\n",
        "    for class_name in os.listdir(data_directory):\n",
        "        class_path = os.path.join(data_directory, class_name)\n",
        "        df = pd.read_csv(os.path.join(data_directory,class_name , '_annotations.csv'))\n",
        "        classes.append(class_name)\n",
        "\n",
        "        for filename in os.listdir(class_path):\n",
        "            filepath = os.path.join(class_path, filename)\n",
        "            filtered_df = df[df['filename'] == filename]\n",
        "            img = cv2.imread(filepath)\n",
        " # Data Processing:\n",
        "# 1)resizing the images to (224, 224),\n",
        "# 2)dividing by 255 to normalize pixel values\n",
        "            if img is not None:\n",
        "                img = cv2.resize(img, (224, 224))\n",
        "                img = img / 255.0\n",
        "                images.append(img)\n",
        "                if(filtered_df['class'].count() > 1):\n",
        "                    if 'cavity' in filtered_df['class'].values:\n",
        "                      labels.append('cavity')\n",
        "                    else:\n",
        "                      labels.append(str(random.choice(filtered_df['class'].values)))\n",
        "                else:\n",
        "                      labels.append(random.choice(filtered_df['class'].values)) #this is a mistake and must be revised\n",
        "\n",
        "    imgs = np.array(images)\n",
        "\n",
        "    return imgs,images, labels, classes"
      ]
    },
    {
      "cell_type": "code",
      "execution_count": null,
      "metadata": {
        "id": "zyIOIdMJggdH"
      },
      "outputs": [],
      "source": [
        "def augmentation(images,labels):\n",
        "    #vertical flip\n",
        "    #zoom in\n",
        "    #zoom out\n",
        "    flipped_images = []\n",
        "    flipped_labels = []\n",
        "    rotated_images = []\n",
        "    rotated_labels = []\n",
        "    for img in images:\n",
        "        #horizontal flip\n",
        "        img_flipped = cv2.flip(img, 1)\n",
        "        flipped_images.append(img_flipped)\n",
        "        #90 degrees rotation\n",
        "        (h, w) = img.shape[:2]\n",
        "        center = (w // 2, h // 2)\n",
        "        matrix = cv2.getRotationMatrix2D(center, 90, 1.0)\n",
        "        img_rotated = cv2.warpAffine(img, matrix, (w, h), flags=cv2.INTER_LINEAR, borderMode=cv2.BORDER_REPLICATE)\n",
        "        rotated_images.append(img_rotated)\n",
        "    for lbl in labels:\n",
        "        flipped_labels.append(lbl)\n",
        "        rotated_labels.append(lbl)\n",
        "\n",
        "    # flipped_labels = np.array(flipped_labels)\n",
        "    # rotated_labels = np.array(rotated_labels)\n",
        "    # labels = np.concatenate((flipped_labels,rotate\n",
        "    return flipped_images + rotated_images , flipped_labels + rotated_labels\n"
      ]
    },
    {
      "cell_type": "code",
      "execution_count": null,
      "metadata": {
        "id": "eW7p-jDaa0Fh"
      },
      "outputs": [],
      "source": [
        "imgs, images, labels,classes =load_data(data_directory)"
      ]
    },
    {
      "cell_type": "code",
      "execution_count": null,
      "metadata": {
        "id": "AM89eH2RbLro"
      },
      "outputs": [],
      "source": [
        "def get_specific_sample(imgs,labels,target_label):\n",
        "\n",
        "   target_images = [img for img, lbl in zip(images, labels) if lbl == target_label]\n",
        "   target_labels = [lbl for lbl in labels if lbl == target_label]\n",
        "   sample_size = len(target_images) // 3\n",
        "   sampled_indices = random.sample(range(len(target_images)), sample_size)\n",
        "   sampled_images = [target_images[i] for i in sampled_indices]\n",
        "   sampled_labels = [target_labels[i] for i in sampled_indices]\n",
        "   filtered_images = [img for img, lbl in zip(images, labels) if lbl != target_label]\n",
        "   filtered_labels = [lbl for lbl in labels if lbl != target_label]\n",
        "   filtered_images.extend(sampled_images)\n",
        "   filtered_labels.extend(sampled_labels)\n",
        "   return filtered_images, filtered_labels"
      ]
    },
    {
      "cell_type": "code",
      "execution_count": null,
      "metadata": {
        "colab": {
          "base_uri": "https://localhost:8080/"
        },
        "id": "seanyaByRAYh",
        "outputId": "2e22b339-93d3-4ea4-c496-94794012ff9c"
      },
      "outputs": [
        {
          "output_type": "execute_result",
          "data": {
            "text/plain": [
              "1269"
            ]
          },
          "metadata": {},
          "execution_count": 19
        }
      ],
      "source": [
        "len(labels)"
      ]
    },
    {
      "cell_type": "code",
      "execution_count": null,
      "metadata": {
        "colab": {
          "base_uri": "https://localhost:8080/"
        },
        "id": "N1Zl7LIAaAy7",
        "outputId": "793cdf47-6340-45f6-83e9-7eb919c56984"
      },
      "outputs": [
        {
          "output_type": "execute_result",
          "data": {
            "text/plain": [
              "Counter({'Fillings': 770, 'Cavity': 95, 'Implant': 224, 'Impacted Tooth': 180})"
            ]
          },
          "metadata": {},
          "execution_count": 20
        }
      ],
      "source": [
        "Counter(labels) # we have to take only 1/3 of the fillings to have a more balanced data"
      ]
    },
    {
      "cell_type": "code",
      "execution_count": null,
      "metadata": {
        "id": "d0c_OHm4c1Ee"
      },
      "outputs": [],
      "source": [
        "imgs, labels = get_specific_sample(imgs,labels,'Fillings')"
      ]
    },
    {
      "cell_type": "code",
      "execution_count": null,
      "metadata": {
        "colab": {
          "base_uri": "https://localhost:8080/"
        },
        "id": "4PW0SGFJhPVj",
        "outputId": "7180113a-36f3-4bf2-f539-e65d210bcecb"
      },
      "outputs": [
        {
          "output_type": "execute_result",
          "data": {
            "text/plain": [
              "{'Cavity', 'Fillings', 'Impacted Tooth', 'Implant'}"
            ]
          },
          "metadata": {},
          "execution_count": 22
        }
      ],
      "source": [
        "set(labels)"
      ]
    },
    {
      "cell_type": "code",
      "source": [
        "Counter(labels)"
      ],
      "metadata": {
        "colab": {
          "base_uri": "https://localhost:8080/"
        },
        "id": "iQfBTVWKdirj",
        "outputId": "643d4d35-04a1-41d0-c8c8-b9d9a8a8d60e"
      },
      "execution_count": null,
      "outputs": [
        {
          "output_type": "execute_result",
          "data": {
            "text/plain": [
              "Counter({'Cavity': 95, 'Implant': 224, 'Impacted Tooth': 180, 'Fillings': 256})"
            ]
          },
          "metadata": {},
          "execution_count": 23
        }
      ]
    },
    {
      "cell_type": "code",
      "execution_count": null,
      "metadata": {
        "id": "VBMxmuBIQdwW"
      },
      "outputs": [],
      "source": [
        "label_encoder = LabelEncoder()\n",
        "labels = label_encoder.fit_transform(labels)"
      ]
    },
    {
      "cell_type": "code",
      "execution_count": null,
      "metadata": {
        "colab": {
          "base_uri": "https://localhost:8080/"
        },
        "id": "qGPSzgUGdKCw",
        "outputId": "b0598920-c1da-441f-d59f-d24c0965813d"
      },
      "outputs": [
        {
          "output_type": "execute_result",
          "data": {
            "text/plain": [
              "755"
            ]
          },
          "metadata": {},
          "execution_count": 25
        }
      ],
      "source": [
        "len(labels)"
      ]
    },
    {
      "cell_type": "code",
      "execution_count": null,
      "metadata": {
        "id": "18UgwkZ8a36-"
      },
      "outputs": [],
      "source": [
        "X_train, X_test ,y_train, y_test = train_test_split(imgs, labels, test_size=0.2, random_state=42, shuffle=True)"
      ]
    },
    {
      "cell_type": "code",
      "execution_count": null,
      "metadata": {
        "id": "Jfu7Tpft40n1"
      },
      "outputs": [],
      "source": [
        "def get_sample(images,labels):\n",
        "  image_label_pairs = list(zip(images,labels))\n",
        "  sample = random.sample(image_label_pairs,500)\n",
        "  sampled_images , sampled_labels = zip(*sample)\n",
        "  return sampled_images , sampled_labels"
      ]
    },
    {
      "cell_type": "code",
      "execution_count": null,
      "metadata": {
        "id": "NLLveuWg_E3S"
      },
      "outputs": [],
      "source": [
        "sampled_images , sampled_labels = get_sample(images, labels)"
      ]
    },
    {
      "cell_type": "code",
      "execution_count": null,
      "metadata": {
        "id": "26eDEx9xh2b1"
      },
      "outputs": [],
      "source": [
        "augmented_images, augmented_labels = augmentation(sampled_images,sampled_labels)"
      ]
    },
    {
      "cell_type": "code",
      "source": [
        "augmented_images = np.array(augmented_images)\n",
        "augmented_labels = np.array(augmented_labels)"
      ],
      "metadata": {
        "id": "PntalOtVd7KB"
      },
      "execution_count": null,
      "outputs": []
    },
    {
      "cell_type": "code",
      "execution_count": null,
      "metadata": {
        "id": "6QvLbZKahtHA"
      },
      "outputs": [],
      "source": [
        "X_train = np.concatenate((X_train, augmented_images),axis=0)"
      ]
    },
    {
      "cell_type": "code",
      "execution_count": null,
      "metadata": {
        "colab": {
          "base_uri": "https://localhost:8080/"
        },
        "id": "eqU0Nh43mq2a",
        "outputId": "b0908d78-c948-4439-c420-6c336325701d"
      },
      "outputs": [
        {
          "output_type": "execute_result",
          "data": {
            "text/plain": [
              "(1617, 224, 224, 3)"
            ]
          },
          "metadata": {},
          "execution_count": 28
        }
      ],
      "source": [
        "X_train.shape"
      ]
    },
    {
      "cell_type": "code",
      "execution_count": null,
      "metadata": {
        "id": "eHe13HfgjF2-"
      },
      "outputs": [],
      "source": [
        "y_train = np.concatenate((y_train, augmented_labels),axis=0)"
      ]
    },
    {
      "cell_type": "code",
      "execution_count": null,
      "metadata": {
        "colab": {
          "base_uri": "https://localhost:8080/"
        },
        "id": "9DEsMx039yXO",
        "outputId": "9864cf18-df61-4513-9137-508fabde632d"
      },
      "outputs": [
        {
          "output_type": "execute_result",
          "data": {
            "text/plain": [
              "(1617,)"
            ]
          },
          "metadata": {},
          "execution_count": 30
        }
      ],
      "source": [
        "y_train.shape"
      ]
    },
    {
      "cell_type": "code",
      "source": [
        "X_train, y_train = shuffle(X_train, y_train)"
      ],
      "metadata": {
        "id": "Q2jfigQoQpoj"
      },
      "execution_count": null,
      "outputs": []
    },
    {
      "cell_type": "code",
      "execution_count": null,
      "metadata": {
        "id": "Aq6KE6LDlxUg"
      },
      "outputs": [],
      "source": [
        "#validation data\n",
        "X_train, X_val, y_train, y_val = train_test_split(X_train, y_train, test_size=0.25, random_state=42, shuffle=True)"
      ]
    }
  ]
}